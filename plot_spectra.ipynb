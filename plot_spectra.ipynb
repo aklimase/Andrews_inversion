{
 "cells": [
  {
   "cell_type": "code",
   "execution_count": 4,
   "metadata": {
    "collapsed": false
   },
   "outputs": [
    {
     "name": "stdout",
     "output_type": "stream",
     "text": [
      "[]\n"
     ]
    },
    {
     "ename": "AttributeError",
     "evalue": "'str' object has no attribute 'basename'",
     "output_type": "error",
     "traceback": [
      "\u001b[0;31m---------------------------------------------------------------------------\u001b[0m",
      "\u001b[0;31mAttributeError\u001b[0m                            Traceback (most recent call last)",
      "\u001b[0;32m<ipython-input-4-b1c77cfafeea>\u001b[0m in \u001b[0;36m<module>\u001b[0;34m()\u001b[0m\n\u001b[1;32m     54\u001b[0m \u001b[0;32mfor\u001b[0m \u001b[0mi\u001b[0m \u001b[0;32min\u001b[0m \u001b[0mrange\u001b[0m\u001b[0;34m(\u001b[0m\u001b[0;36m15\u001b[0m\u001b[0;34m,\u001b[0m \u001b[0;36m25\u001b[0m\u001b[0;34m)\u001b[0m\u001b[0;34m:\u001b[0m  \u001b[0;31m##for every record\u001b[0m\u001b[0;34m\u001b[0m\u001b[0m\n\u001b[1;32m     55\u001b[0m     \u001b[0;31m#North component\u001b[0m\u001b[0;34m\u001b[0m\u001b[0;34m\u001b[0m\u001b[0m\n\u001b[0;32m---> 56\u001b[0;31m     \u001b[0mbase\u001b[0m \u001b[0;34m=\u001b[0m \u001b[0mpath\u001b[0m\u001b[0;34m.\u001b[0m\u001b[0mbasename\u001b[0m\u001b[0;34m(\u001b[0m\u001b[0mrecord_paths\u001b[0m\u001b[0;34m[\u001b[0m\u001b[0mi\u001b[0m\u001b[0;34m]\u001b[0m\u001b[0;34m)\u001b[0m\u001b[0;34m\u001b[0m\u001b[0m\n\u001b[0m\u001b[1;32m     57\u001b[0m     \u001b[0meventid\u001b[0m \u001b[0;34m=\u001b[0m \u001b[0mbase\u001b[0m\u001b[0;34m.\u001b[0m\u001b[0msplit\u001b[0m\u001b[0;34m(\u001b[0m\u001b[0;34m'.'\u001b[0m\u001b[0;34m)\u001b[0m\u001b[0;34m[\u001b[0m\u001b[0;36m0\u001b[0m\u001b[0;34m]\u001b[0m\u001b[0;34m\u001b[0m\u001b[0m\n\u001b[1;32m     58\u001b[0m     \u001b[0mnetwork\u001b[0m \u001b[0;34m=\u001b[0m \u001b[0mbase\u001b[0m\u001b[0;34m.\u001b[0m\u001b[0msplit\u001b[0m\u001b[0;34m(\u001b[0m\u001b[0;34m'.'\u001b[0m\u001b[0;34m)\u001b[0m\u001b[0;34m[\u001b[0m\u001b[0;36m1\u001b[0m\u001b[0;34m]\u001b[0m\u001b[0;34m\u001b[0m\u001b[0m\n",
      "\u001b[0;31mAttributeError\u001b[0m: 'str' object has no attribute 'basename'"
     ]
    }
   ],
   "source": [
    "#!/usr/bin/env python2\n",
    "# -*- coding: utf-8 -*-\n",
    "\"\"\"\n",
    "Created on Thu Jul  6 15:01:34 2017\n",
    "\n",
    "@author: escuser\n",
    "\n",
    "Read in the .out spectra files and plot along with info for each event, and plot the record spectra for each combo\n",
    "\"\"\"\n",
    "\n",
    "import matplotlib.pyplot as plt\n",
    "%matplotlib inline\n",
    "import numpy as np\n",
    "import os.path as path\n",
    "import glob\n",
    "\n",
    "path = '/Users/alexisklimasewski/Documents/USGS/'\n",
    "'''\n",
    "#read in anza_event_catalog.txt\n",
    "#catalog = '/Users/escuser/Documents/Alexis_Data/anza_event_catalog.txt'\n",
    "#catalog = path + \n",
    "\n",
    "eventid = []\n",
    "mag = []\n",
    "\n",
    "cat = np.genfromtxt(catalog, dtype = str, comments = '#', delimiter = '|')\n",
    "eventid.append(cat[:,0])\n",
    "eventid_string = eventid[0]\n",
    "mag.append(cat[:,10])\n",
    "mag_string = mag[0]\n",
    "\n",
    "print(eventid_string)\n",
    "\n",
    "## Convert eventid_string to a float:\n",
    "#eventid_cat = np.zeros(len(eventid_string))\n",
    "eventid_cat = []\n",
    "#mag_cat = np.zeros(len(eventid_string))\n",
    "\n",
    "for eventi in range(len(eventid_string)):\n",
    "    eventid_i = eventid_string[eventi].split('ci')[1]\n",
    "    eventid_cat.append(eventid_i)\n",
    "#    mag_cat[eventi] = float(mag_string[eventi])\n",
    "print(eventid_cat)\n",
    "\n",
    "#remove the ci from the name\n",
    "'''\n",
    "record_paths = glob.glob(path + 'cut_sac_files/record_spectra/*.out')#full path for only specified channel\n",
    "print(record_paths)\n",
    "event_dir = path + '/cut_sac_files/event_site_spectra/'\n",
    "\n",
    "station_dir = path + 'cut_sac_files/event_site_spectra/'\n",
    "station_files = glob.glob(station_dir + '*.out')\n",
    "\n",
    "for i in range(15, 25):  ##for every record\n",
    "    #North component\n",
    "    base = path.basename(record_paths[i])\n",
    "    eventid = base.split('.')[0]\n",
    "    network = base.split('.')[1]\n",
    "    station = base.split('.')[2]\n",
    "    \n",
    "    '''\n",
    "    #look up event info and print\n",
    "    for j in range(len(eventid_cat)):\n",
    "        if eventid_cat[j] == eventid:\n",
    "            print('event: '+ eventid + '   magnitude: ' + mag_string[j])\n",
    "    '''\n",
    "    \n",
    "    #record spectra\n",
    "    record_data = np.genfromtxt(record_paths[i], dtype = float, comments = '#', delimiter = None, usecols = (0,1))#only read in first two cols\n",
    "    f_bins = record_data[:,0]\n",
    "    #####################################\n",
    "    #power spectra so take square root\n",
    "    record_spec = np.sqrt(record_data[:,1])\n",
    "    #event spectra\n",
    "    event_data = np.genfromtxt(event_dir + eventid + '.out', dtype = float, comments = '#', delimiter = None, usecols = (0,1))\n",
    "    event_spec = event_data[:,1]\n",
    "    \n",
    "    station_data = np.genfromtxt(station_dir + station + '.out', dtype = float, comments = '#', delimiter = None, usecols = (0,1))\n",
    "    station_spec = station_data[:,1]\n",
    "    \n",
    "    \n",
    "    #plot the station spectra\n",
    "    plt.figure(figsize = (12,16))\n",
    "    plt.subplot(311)\n",
    "    plt.title('record ' + base, fontsize = 15)\n",
    "    plt.loglog(f_bins, record_spec)\n",
    "    plt.ylim(10**(-10), 10**(0))\n",
    "    plt.subplot(312)\n",
    "    plt.title('event ' +  eventid, fontsize = 15)\n",
    "    plt.loglog(f_bins, event_spec, color = 'green')\n",
    "    plt.ylim(10**(-10), 10**(0))\n",
    "    plt.subplot(313)\n",
    "    plt.title('station ' + station, fontsize = 15)\n",
    "    plt.loglog(f_bins, station_spec, color='r')\n",
    "    plt.ylim(10**(-10), 10**(0))\n",
    "    plt.show()\n"
   ]
  },
  {
   "cell_type": "code",
   "execution_count": 3,
   "metadata": {
    "collapsed": true
   },
   "outputs": [],
   "source": [
    "import os.path\n",
    "\n"
   ]
  },
  {
   "cell_type": "code",
   "execution_count": null,
   "metadata": {
    "collapsed": true
   },
   "outputs": [],
   "source": []
  }
 ],
 "metadata": {
  "kernelspec": {
   "display_name": "Python 3",
   "language": "python",
   "name": "python3"
  },
  "language_info": {
   "codemirror_mode": {
    "name": "ipython",
    "version": 3
   },
   "file_extension": ".py",
   "mimetype": "text/x-python",
   "name": "python",
   "nbconvert_exporter": "python",
   "pygments_lexer": "ipython3",
   "version": "3.6.0"
  }
 },
 "nbformat": 4,
 "nbformat_minor": 2
}
